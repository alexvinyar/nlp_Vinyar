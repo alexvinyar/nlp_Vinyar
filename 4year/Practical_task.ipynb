{
 "cells": [
  {
   "cell_type": "markdown",
   "metadata": {},
   "source": [
    "# Task 2"
   ]
  },
  {
   "cell_type": "code",
   "execution_count": 1,
   "metadata": {
    "collapsed": true
   },
   "outputs": [],
   "source": [
    "from nltk.corpus import wordnet"
   ]
  },
  {
   "cell_type": "code",
   "execution_count": 3,
   "metadata": {
    "collapsed": false
   },
   "outputs": [
    {
     "name": "stdout",
     "output_type": "stream",
     "text": [
      "Synset('cup.n.01') a small open container usually used for drinking; usually has a handle\n",
      "Synset('cup.n.02') the quantity a cup will hold\n",
      "Synset('cup.n.03') any cup-shaped concavity\n",
      "Synset('cup.n.04') a United States liquid unit equal to 8 fluid ounces\n",
      "Synset('cup.n.05') cup-shaped plant organ\n",
      "Synset('cup.n.06') a punch served in a pitcher instead of a punch bowl\n",
      "Synset('cup.n.07') the hole (or metal container in the hole) on a golf green\n",
      "Synset('cup.n.08') a large metal vessel with two handles that is awarded as a trophy to the winner of a competition\n",
      "Synset('cup.v.01') form into the shape of a cup\n",
      "Synset('cup.v.02') put into a cup\n",
      "Synset('cup.v.03') treat by applying evacuated cups to the patient's skin\n"
     ]
    }
   ],
   "source": [
    "cup = wordnet.synsets('cup')\n",
    "for ss in cup:\n",
    "    print(ss, ss.definition())"
   ]
  },
  {
   "cell_type": "code",
   "execution_count": 4,
   "metadata": {
    "collapsed": false
   },
   "outputs": [
    {
     "name": "stdout",
     "output_type": "stream",
     "text": [
      "Synset('trophy.n.02') something given as a token of victory\n"
     ]
    }
   ],
   "source": [
    "cup_hyper = cup[7].hypernyms()\n",
    "for ss in cup_hyper:\n",
    "    print(ss, ss.definition())"
   ]
  },
  {
   "cell_type": "code",
   "execution_count": 5,
   "metadata": {
    "collapsed": false
   },
   "outputs": [
    {
     "name": "stdout",
     "output_type": "stream",
     "text": [
      "tea coffee 2\n",
      "container artefact 2\n"
     ]
    }
   ],
   "source": [
    "print('tea coffee', wordnet.synsets('tea')[0].shortest_path_distance(wordnet.synsets('coffee')[0]))\n",
    "print('container artefact', wordnet.synsets('container')[0].shortest_path_distance(wordnet.synsets('artefact')[0]))"
   ]
  },
  {
   "cell_type": "markdown",
   "metadata": {},
   "source": [
    "Расстояние одинаковое и это не соответствует интуиции. Если чай и кофе это это слова из одной семантической зоны (причем достаточно узкой - популярные горячие напитки), то контейнер и артефакт с трудом можно объединить в семантическую зону, которая не включала бы в себя \"все рукотворные предметы вообще\".\n",
    "\n",
    "# Task 3"
   ]
  },
  {
   "cell_type": "code",
   "execution_count": 7,
   "metadata": {
    "collapsed": false
   },
   "outputs": [],
   "source": [
    "from gensim.models import KeyedVectors"
   ]
  },
  {
   "cell_type": "code",
   "execution_count": 8,
   "metadata": {
    "collapsed": true
   },
   "outputs": [],
   "source": [
    "vectors = KeyedVectors.load_word2vec_format('С:/ruscorpora_mean_hs.model.bin', binary=True)"
   ]
  },
  {
   "cell_type": "code",
   "execution_count": 11,
   "metadata": {
    "collapsed": false,
    "scrolled": false
   },
   "outputs": [
    {
     "name": "stdout",
     "output_type": "stream",
     "text": [
      "('замначальник_S', 0.6262381076812744)\n",
      "('заведующий_S', 0.5692601799964905)\n",
      "('комендант_S', 0.5626716017723083)\n",
      "('дежурный_S', 0.5406119227409363)\n",
      "('инспектор_S', 0.5218731760978699)\n",
      "('шеф_S', 0.5208275318145752)\n",
      "('оперуполномоченный_S', 0.49783241748809814)\n",
      "('начальство_S', 0.4953279495239258)\n",
      "('руководитель_S', 0.4885033965110779)\n",
      "('командир_S', 0.4845767617225647)\n"
     ]
    }
   ],
   "source": [
    "boss = vectors.most_similar(positive=['начальник_S'],topn=10)\n",
    "for item in boss:\n",
    "    print(item)"
   ]
  },
  {
   "cell_type": "markdown",
   "metadata": {},
   "source": [
    "### Ручной список\n",
    "Сначала я беру синонимы, отличающиеся только стилистически (шеф, босс). Затем я беру слово, отличающееся лишь одним компонентом значения, а в остальном являющееся практически полным синонимом (начальница). Затем я беру что-то среднее между гиперонимом и синонимом (руководитель - так как руководитель может быть, в отличие от начальника, у практически чего угодно). И затем я беру гипоним - слово \"куратор\" (подтип начальника, который по идее постоянно следит и находится в курсе дел подчиненных).\n",
    "\n",
    "Итого: шеф, босс, начальница, руководитель, куратор.\n",
    "\n",
    "### Сравнение списков\n",
    "Совпало только два слова - шеф и руководитель.\n",
    "\n",
    "### Лишние слова\n",
    "Комендант, дежурный, инспектор и оперуполномоченный - лишние. Начальство и замначальника - тоже. Первые четыре вероятно возникли потому, что это некоторые звания, и они часто фигурируют в текстах как носители власти (хотя в принципе у них может ни у кого не быть подчиненных). О близости слов \"начальство\" и \"замначальника\" к слову \"начальник\" говорить странно. Они действительно очень близкие и явно употребляются в тех же контекстах, но в некотором смысле это почти то же самое, что рассматривать \"брат\", \"братья\" и \"младший брат\" как разные лексемы и говорить об их сходстве."
   ]
  },
  {
   "cell_type": "markdown",
   "metadata": {},
   "source": [
    "# Task 4"
   ]
  },
  {
   "cell_type": "code",
   "execution_count": 13,
   "metadata": {
    "collapsed": false
   },
   "outputs": [
    {
     "name": "stdout",
     "output_type": "stream",
     "text": [
      "удивляться_V\n"
     ]
    }
   ],
   "source": [
    "print(vectors.doesnt_match(['говорить_V','сказать_V','писать_V','удивляться_V']))"
   ]
  }
 ],
 "metadata": {
  "anaconda-cloud": {},
  "kernelspec": {
   "display_name": "Python [conda env:python36]",
   "language": "python",
   "name": "conda-env-python36-py"
  },
  "language_info": {
   "codemirror_mode": {
    "name": "ipython",
    "version": 3
   },
   "file_extension": ".py",
   "mimetype": "text/x-python",
   "name": "python",
   "nbconvert_exporter": "python",
   "pygments_lexer": "ipython3",
   "version": "3.6.3"
  }
 },
 "nbformat": 4,
 "nbformat_minor": 1
}
