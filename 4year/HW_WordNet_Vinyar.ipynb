{
 "cells": [
  {
   "cell_type": "code",
   "execution_count": 1,
   "metadata": {
    "collapsed": false
   },
   "outputs": [],
   "source": [
    "from nltk.corpus import wordnet"
   ]
  },
  {
   "cell_type": "markdown",
   "metadata": {},
   "source": [
    "<b>1) Найти все значения (синсеты) для лексемы nail<b>"
   ]
  },
  {
   "cell_type": "code",
   "execution_count": 2,
   "metadata": {
    "collapsed": false
   },
   "outputs": [
    {
     "name": "stdout",
     "output_type": "stream",
     "text": [
      "Synset('nail.n.01') horny plate covering and protecting part of the dorsal surface of the digits\n",
      "Synset('nail.n.02') a thin pointed piece of metal that is hammered into materials as a fastener\n",
      "Synset('nail.n.03') a former unit of length for cloth equal to 1/16 of a yard\n",
      "Synset('nail.v.01') attach something somewhere by means of nails\n",
      "Synset('collar.v.01') take into custody\n",
      "Synset('smash.v.01') hit hard\n",
      "Synset('nail_down.v.01') succeed in obtaining a position\n",
      "Synset('breeze_through.v.01') succeed at easily\n",
      "Synset('pinpoint.v.01') locate exactly\n",
      "Synset('complete.v.04') complete a pass\n"
     ]
    }
   ],
   "source": [
    "nail = wordnet.synsets('nail')\n",
    "for ss in nail:\n",
    "    print(ss, ss.definition())"
   ]
  },
  {
   "cell_type": "markdown",
   "metadata": {},
   "source": [
    "<b>2) Найти определение для лексемы nail в значении (а) \"ноготь\" и в значении (b) \"гвоздь\"</b>"
   ]
  },
  {
   "cell_type": "code",
   "execution_count": 3,
   "metadata": {
    "collapsed": false
   },
   "outputs": [
    {
     "name": "stdout",
     "output_type": "stream",
     "text": [
      "Synset('nail.n.01') horny plate covering and protecting part of the dorsal surface of the digits\n",
      "Synset('nail.n.02') a thin pointed piece of metal that is hammered into materials as a fastener\n"
     ]
    }
   ],
   "source": [
    "print(nail[0], nail[0].definition())\n",
    "print(nail[1], nail[1].definition())"
   ]
  },
  {
   "cell_type": "markdown",
   "metadata": {},
   "source": [
    "<b>3) Найдите два произвольных контекста для слова nail в значениях (а) \"ноготь\" и (b) \"гвоздь\"; продемонстрируйте на них действие алгоритма Леска для разрешения неоднозначности</b>"
   ]
  },
  {
   "cell_type": "code",
   "execution_count": 8,
   "metadata": {
    "collapsed": false
   },
   "outputs": [
    {
     "name": "stdout",
     "output_type": "stream",
     "text": [
      "['I', 'looked', 'down', 'at', 'my', 'hands', 'and', 'picked', 'at', 'the', 'dry', 'skin', 'around', 'my', 'nail']\n",
      "['One', 'broad', 'hand', 'ripped', 'his', 'wet', 'shirt', 'over', 'his', 'head', 'to', 'hang', 'on', 'a', 'nail']\n"
     ]
    }
   ],
   "source": [
    "sent1 = \"I looked down at my hands and picked at the dry skin around my nail.\"\n",
    "sent2 = \"One broad hand ripped his wet shirt over his head to hang on a nail.\"\n",
    "sent1_tokens = [word.strip('.,') for word in sent1.split(' ')]\n",
    "sent2_tokens = [word.strip('.,') for word in sent2.split(' ')]\n",
    "print(sent1_tokens)\n",
    "print(sent2_tokens)"
   ]
  },
  {
   "cell_type": "code",
   "execution_count": 9,
   "metadata": {
    "collapsed": false
   },
   "outputs": [
    {
     "name": "stdout",
     "output_type": "stream",
     "text": [
      "horny plate covering and protecting part of the dorsal surface of the digits\n",
      "a former unit of length for cloth equal to 1/16 of a yard\n"
     ]
    }
   ],
   "source": [
    "from nltk.wsd import lesk\n",
    "print(lesk(sent1_tokens, 'nail').definition())\n",
    "print(lesk(sent2_tokens, 'nail').definition())"
   ]
  },
  {
   "cell_type": "markdown",
   "metadata": {},
   "source": [
    "Алгоритм Леска ошибся во втором случае, приняв \"гвоздь\" за меру длины."
   ]
  },
  {
   "cell_type": "markdown",
   "metadata": {},
   "source": [
    "<b>4) Найдите гиперонимы для значения (a) и гиперонимы для значения (b)</b>"
   ]
  },
  {
   "cell_type": "code",
   "execution_count": 10,
   "metadata": {
    "collapsed": false
   },
   "outputs": [
    {
     "name": "stdout",
     "output_type": "stream",
     "text": [
      "Synset('horny_structure.n.01') any rigid body structure composed primarily of keratin\n",
      "Synset('fastener.n.02') restraint that attaches to something or holds something in place\n"
     ]
    }
   ],
   "source": [
    "for ss in nail[0].hypernyms():\n",
    "    print(ss, ss.definition())\n",
    "for ss in nail[1].hypernyms():\n",
    "    print(ss, ss.definition())"
   ]
  },
  {
   "cell_type": "markdown",
   "metadata": {},
   "source": [
    "<b>5) Вычислите наименьшее расстояние между значением nail \"гвоздь\" и значениями лексемы instrument, а также nail \"ноготь\" и значениями лексемы lunule.\n",
    "Найти min (d(nail: \"гвоздь\", instrument), d(nail: \"гвоздь\", lunule)), а также min (d(nail: \"ноготь\", instrument), d(nail: \"ноготь\", lunule))</b>"
   ]
  },
  {
   "cell_type": "code",
   "execution_count": 13,
   "metadata": {
    "collapsed": false
   },
   "outputs": [
    {
     "name": "stdout",
     "output_type": "stream",
     "text": [
      "min d(nail: \"ноготь\", instrument): 11\n",
      "closest lemma definition: a person used by another to gain an end\n",
      "\n",
      "min d(nail: \"ноготь\", lunule): 5\n",
      "closest lemma definition: the crescent-shaped area at the base of the human fingernail\n",
      "\n",
      "min d(nail: \"гвоздь\", instrument): 4\n",
      "closest lemma definition: a device that requires skill for proper use\n",
      "\n",
      "min d(nail: \"гвоздь\", lunule): 13\n",
      "closest lemma definition: the crescent-shaped area at the base of the human fingernail\n",
      "\n",
      "min (d(nail: \"ноготь\", instrument), d(nail: \"ноготь\", lunule)): 5\n",
      "min (d(nail: \"гвоздь\", instrument), d(nail: \"гвоздь\", lunule)): 4\n"
     ]
    }
   ],
   "source": [
    "instrument = wordnet.synsets('instrument')\n",
    "lunule = wordnet.synsets('lunule')\n",
    "\n",
    "def get_dist_sim(ss1, lexeme):\n",
    "    distances = []\n",
    "    similarities = []\n",
    "    for ss2 in lexeme:\n",
    "        dist = ss1.shortest_path_distance(ss2)\n",
    "        if dist is not None:\n",
    "            distances.append(dist)\n",
    "            sim = ss1.path_similarity(ss2)\n",
    "            similarities.append(sim)\n",
    "    return distances, similarities\n",
    "\n",
    "# min d(nail: \"ноготь\", instrument)\n",
    "dist1 = get_dist_sim(nail[0], instrument)[0]\n",
    "print('min d(nail: \"ноготь\", instrument): {}'.format(min(dist1)))\n",
    "print('closest lemma definition: {}\\n'.format(instrument[dist1.index(min(dist1))].definition()))\n",
    "# Правда, здесь выводится только одно ближайшее значение. Их может быть несколько.\n",
    "\n",
    "# min d(nail: \"ноготь\", lunule)\n",
    "dist2 = get_dist_sim(nail[0], lunule)[0]\n",
    "print('min d(nail: \"ноготь\", lunule): {}'.format(min(dist2)))\n",
    "print('closest lemma definition: {}\\n'.format(lunule[dist2.index(min(dist2))].definition()))\n",
    "\n",
    "# min d(nail: \"гвоздь\", instrument)\n",
    "dist3 = get_dist_sim(nail[1], instrument)[0]\n",
    "print('min d(nail: \"гвоздь\", instrument): {}'.format(min(dist3)))\n",
    "print('closest lemma definition: {}\\n'.format(instrument[dist3.index(min(dist3))].definition()))\n",
    "\n",
    "# min d(nail: \"гвоздь\", lunule)\n",
    "dist4 = get_dist_sim(nail[1], lunule)[0]\n",
    "print('min d(nail: \"гвоздь\", lunule): {}'.format(min(dist4)))\n",
    "print('closest lemma definition: {}\\n'.format(lunule[dist4.index(min(dist4))].definition()))\n",
    "\n",
    "print('min (d(nail: \"ноготь\", instrument), d(nail: \"ноготь\", lunule)): {}'.format(min(min(dist1), min(dist2))))\n",
    "print('min (d(nail: \"гвоздь\", instrument), d(nail: \"гвоздь\", lunule)): {}'.format(min(min(dist3), min(dist4))))"
   ]
  },
  {
   "cell_type": "markdown",
   "metadata": {},
   "source": [
    "Кратчайшее расстояние от ногтя до инструмента - 11, причем ближайшее значение -- какое-то метафорическое, зато от ногтя до лунки - всего 5, и значение нужное. Кратчайшее расстояние от гвоздя до инструмента - 5, и значение верное. От гвоздя до лунки - 13, значение такое же как для ногтя (но видимо единственное у него).\n",
    "\n",
    "Если имелось в виду посчитать не расстояние, а сходство путей на основе кратчайшего расстояния (минимальный путь --> максимальное сходство), вот оно:"
   ]
  },
  {
   "cell_type": "code",
   "execution_count": 14,
   "metadata": {
    "collapsed": false
   },
   "outputs": [
    {
     "name": "stdout",
     "output_type": "stream",
     "text": [
      "max s(nail: \"ноготь\", instrument): 0.08333333333333333\n",
      "closest lemma definition: a person used by another to gain an end\n",
      "\n",
      "max s(nail: \"ноготь\", lunule): 0.16666666666666666\n",
      "closest lemma definition: the crescent-shaped area at the base of the human fingernail\n",
      "\n",
      "max s(nail: \"гвоздь\", instrument): 0.058823529411764705\n",
      "closest lemma definition: a device that requires skill for proper use\n",
      "\n",
      "max s(nail: \"гвоздь\", lunule): 0.07142857142857142\n",
      "closest lemma definition: the crescent-shaped area at the base of the human fingernail\n",
      "\n",
      "max (s(nail: \"ноготь\", instrument), s(nail: \"ноготь\", lunule)): 0.16666666666666666\n",
      "max (s(nail: \"гвоздь\", instrument), s(nail: \"гвоздь\", lunule)): 0.2\n"
     ]
    }
   ],
   "source": [
    "# max s(nail: \"ноготь\", instrument)\n",
    "sim1 = get_dist_sim(nail[0], instrument)[1]\n",
    "print('max s(nail: \"ноготь\", instrument): {}'.format(max(sim1)))\n",
    "print('closest lemma definition: {}\\n'.format(instrument[sim1.index(max(sim1))].definition()))\n",
    "# Правда, здесь выводится только одно ближайшее значение. Их может быть несколько.\n",
    "\n",
    "# max s(nail: \"ноготь\", lunule)\n",
    "sim2 = get_dist_sim(nail[0], lunule)[1]\n",
    "print('max s(nail: \"ноготь\", lunule): {}'.format(max(sim2)))\n",
    "print('closest lemma definition: {}\\n'.format(lunule[sim2.index(max(sim2))].definition()))\n",
    "\n",
    "# max s(nail: \"гвоздь\", instrument)\n",
    "sim3 = get_dist_sim(nail[1], instrument)[1]\n",
    "print('max s(nail: \"гвоздь\", instrument): {}'.format(min(sim3)))\n",
    "print('closest lemma definition: {}\\n'.format(instrument[sim3.index(max(sim3))].definition()))\n",
    "\n",
    "# max s(nail: \"гвоздь\", lunule)\n",
    "sim4 = get_dist_sim(nail[1], lunule)[1]\n",
    "print('max s(nail: \"гвоздь\", lunule): {}'.format(max(sim4)))\n",
    "print('closest lemma definition: {}\\n'.format(lunule[sim4.index(max(sim4))].definition()))\n",
    "\n",
    "print('max (s(nail: \"ноготь\", instrument), s(nail: \"ноготь\", lunule)): {}'.format(max(max(sim1), max(sim2))))\n",
    "print('max (s(nail: \"гвоздь\", instrument), s(nail: \"гвоздь\", lunule)): {}'.format(max(max(sim3), max(sim4))))"
   ]
  },
  {
   "cell_type": "markdown",
   "metadata": {},
   "source": [
    "Результат немного странный - у ногтя почему-то больше сходство с инструментом, хотя расстояние (пред. пункт) больше.\n",
    "\n",
    "<b>6) Вычислить двумя разными способами расстояние:\n",
    "d(nail: \"ноготь\", thumbnail) и d(organism, whole)\n",
    "Есть ли разница в расстояниях? Какое из расстояний, по Вашему мнению, в лучшей степени отражает интуитивное представление о семантчиеской близости слов?</b>\n",
    "\n",
    "А вот здесь же точно речь идет о сходстве/близости значений, а не о стандартном расстоянии? (Потому что стандартное расстояние - кратчайший путь - трудно считать несколькими способами.)"
   ]
  },
  {
   "cell_type": "code",
   "execution_count": 15,
   "metadata": {
    "collapsed": false
   },
   "outputs": [
    {
     "name": "stdout",
     "output_type": "stream",
     "text": [
      "Synset('thumbnail.n.01') the nail of the thumb\n"
     ]
    }
   ],
   "source": [
    "thumbnail = wordnet.synsets(\"thumbnail\")\n",
    "for ss in thumbnail:\n",
    "    print(ss, ss.definition())"
   ]
  },
  {
   "cell_type": "markdown",
   "metadata": {},
   "source": [
    "Посчитаем близость с помощью критериев Path Similarity, Leacock-Chodorow Similarity, Wu-Palmer Similarity, Resnik Similarity, Jiang-Conrath Similarity и Lin Similarity. Для последних трех будем использовать Information Content корпуса Brown."
   ]
  },
  {
   "cell_type": "code",
   "execution_count": 18,
   "metadata": {
    "collapsed": false
   },
   "outputs": [
    {
     "name": "stdout",
     "output_type": "stream",
     "text": [
      "0.3333333333333333\n",
      "2.538973871058276\n",
      "0.8888888888888888\n",
      "11.330105697133238\n",
      "0.318928988903801\n",
      "0.8784489843654495\n"
     ]
    }
   ],
   "source": [
    "from nltk.corpus import wordnet_ic\n",
    "ic = wordnet_ic.ic('ic-brown.dat')\n",
    "\n",
    "print(nail[0].path_similarity(thumbnail[0]))\n",
    "\n",
    "#Leacock-Chodorow Similarity\n",
    "print(nail[0].lch_similarity(thumbnail[0]))\n",
    "\n",
    "#Wu-Palmer Similarity\n",
    "print(nail[0].wup_similarity(thumbnail[0]))\n",
    "    \n",
    "#Resnik Similarity\n",
    "print(nail[0].res_similarity(thumbnail[0], ic))\n",
    "    \n",
    "#Jiang-Conrath Similarity\n",
    "print(nail[0].jcn_similarity(thumbnail[0], ic))\n",
    "    \n",
    "#Lin Similarity\n",
    "print(nail[0].lin_similarity(thumbnail[0], ic))\n"
   ]
  },
  {
   "cell_type": "code",
   "execution_count": 19,
   "metadata": {
    "collapsed": false
   },
   "outputs": [
    {
     "name": "stdout",
     "output_type": "stream",
     "text": [
      "Synset('organism.n.01') a living thing that has (or can develop) the ability to act or function independently\n",
      "Synset('organism.n.01') []\n",
      "Synset('organism.n.02') a system considered analogous in structure or function to a living body\n",
      "Synset('organism.n.02') ['the social organism']\n"
     ]
    }
   ],
   "source": [
    "organism = wordnet.synsets('organism')\n",
    "for ss in organism:\n",
    "    print(ss, ss.definition())\n",
    "    print(ss, ss.examples())"
   ]
  },
  {
   "cell_type": "code",
   "execution_count": 20,
   "metadata": {
    "collapsed": false
   },
   "outputs": [
    {
     "name": "stdout",
     "output_type": "stream",
     "text": [
      "Synset('whole.n.01') all of something including all its component elements or parts\n",
      "Synset('whole.n.01') ['Europe considered as a whole', 'the whole of American literature']\n",
      "Synset('whole.n.02') an assemblage of parts that is regarded as a single entity\n",
      "Synset('whole.n.02') ['how big is that part compared to the whole?', 'the team is a unit']\n"
     ]
    }
   ],
   "source": [
    "whole = wordnet.synsets('whole', 'n')\n",
    "for ss in whole:\n",
    "    print(ss, ss.definition())\n",
    "    print(ss, ss.examples())"
   ]
  },
  {
   "cell_type": "code",
   "execution_count": 21,
   "metadata": {
    "collapsed": false
   },
   "outputs": [
    {
     "name": "stdout",
     "output_type": "stream",
     "text": [
      "a living thing that has (or can develop) the ability to act or function independently\n",
      "all of something including all its component elements or parts\n",
      "0.07692307692307693\n",
      "1.072636802264849\n",
      "0.14285714285714285\n",
      "-0.0\n",
      "0.11927453545173074\n",
      "-0.0\n",
      "an assemblage of parts that is regarded as a single entity\n",
      "0.3333333333333333\n",
      "2.538973871058276\n",
      "0.8\n",
      "1.5318337432196856\n",
      "1.4444255924181877\n",
      "0.8156763478002892\n",
      "a system considered analogous in structure or function to a living body\n",
      "all of something including all its component elements or parts\n",
      "0.1\n",
      "1.3350010667323402\n",
      "0.3076923076923077\n",
      "0.5962292078977726\n",
      "0.05928363701403374\n",
      "0.0660256991738309\n",
      "an assemblage of parts that is regarded as a single entity\n",
      "0.125\n",
      "1.55814461804655\n",
      "0.2222222222222222\n",
      "-0.0\n",
      "0.07444639262208605\n",
      "-0.0\n"
     ]
    }
   ],
   "source": [
    "for ss1 in organism:\n",
    "    print(ss1.definition())\n",
    "    for ss2 in whole:\n",
    "        print(ss2.definition())\n",
    "        print(ss1.path_similarity(ss2))\n",
    "\n",
    "        #Leacock-Chodorow Similarity\n",
    "        print(ss1.lch_similarity(ss2))\n",
    "\n",
    "        #Wu-Palmer Similarity\n",
    "        print(ss1.wup_similarity(ss2))\n",
    "\n",
    "        #Resnik Similarity\n",
    "        print(ss1.res_similarity(ss2, ic))\n",
    "\n",
    "        #Jiang-Conrath Similarity\n",
    "        print(ss1.jcn_similarity(ss2, ic))\n",
    "\n",
    "        #Lin Similarity\n",
    "        print(ss1.lin_similarity(ss2, ic))"
   ]
  },
  {
   "cell_type": "markdown",
   "metadata": {},
   "source": [
    "<style type=\"text/css\">\n",
    "\ttable.tableizer-table {\n",
    "\t\tfont-size: 12px;\n",
    "\t\tborder: 1px solid #CCC; \n",
    "\t\tfont-family: Arial, Helvetica, sans-serif;\n",
    "\t} \n",
    "\t.tableizer-table td {\n",
    "\t\tpadding: 4px;\n",
    "\t\tmargin: 3px;\n",
    "\t\tborder: 1px solid #CCC;\n",
    "\t}\n",
    "\t.tableizer-table th {\n",
    "\t\tbackground-color: #104E8B; \n",
    "\t\tcolor: #FFF;\n",
    "\t\tfont-weight: bold;\n",
    "\t}\n",
    "</style>\n",
    "<table class=\"tableizer-table\">\n",
    "<thead><tr class=\"tableizer-firstrow\"><th>Similarity Index</th><th>ноготь / thumbnail</th><th>a living thing / all of something</th><th>a living thing / an assemblage</th><th>a system / all of something</th><th>a system / an assemblage</th></tr></thead><tbody>\n",
    " <tr><td>Path Similarity</td><td>0.3333333333</td><td>0.07692307692</td><td>0.3333333333</td><td>0.1</td><td>0.125</td></tr>\n",
    " <tr><td>Leacock-Chodorow Similarity</td><td>2.538973871</td><td>1.072636802</td><td>2.538973871</td><td>1.335001067</td><td>1.558144618</td></tr>\n",
    " <tr><td>Wu-Palmer Similarity</td><td>0.8888888889</td><td>0.1428571429</td><td>0.8</td><td>0.3076923077</td><td>0.2222222222</td></tr>\n",
    " <tr><td>Resnik Similarity</td><td>11.3301056971</td><td>0</td><td>1.531833743</td><td>0.5962292079</td><td>0</td></tr>\n",
    " <tr><td>Jiang-Conrath Similarity</td><td>0.3189289889</td><td>0.1192745355</td><td>1.444425592</td><td>0.05928363701</td><td>0.07444639262</td></tr>\n",
    " <tr><td>Lin Similarity</td><td>0.8784489844</td><td>0</td><td>0.8156763478</td><td>0.06602569917</td><td>0</td></tr>\n",
    "</tbody></table>"
   ]
  },
  {
   "cell_type": "markdown",
   "metadata": {},
   "source": [
    "thumbnail является гипонимом ногтя. Как его сравнивать с organism/whole не совсем понятно, потому что во втором случае нет таких прямых отношений. За исключением предпоследнего индекса у этой пары самые большие показатели схожести.\n",
    "\n",
    "Интуитивно кажется, что оба значения организма (a living thing that has (or can develop) the ability to act or function independently; a system considered analogous in structure or function to a living body) должны быть больше похожи на второе значение целого (an assemblage of parts that is regarded as a single entity), чем на первое (all of something including all its component elements or parts). То есть четвертый и шестой столбцы в таблице должны быть больше, чем третий и пятый. Хотя второе значение организма и первое значение целого тоже близки.\n",
    "\n",
    "В четвертом столбце действительно самые большие индексы среди организма/целого. По предпоследнему индексу эта пара превосходит  ноготь / thumbnail, а по индексу Leacock-Chodorow Similarity равна ей. \n",
    "\n",
    "Показатели в шестом же столбце больше третьего и пятого только для первых двух индексов (по Wu-Palmer Similarity разница небольшая). Первые два индекса, кстати, дают более или менее пропорциональные величины, и сравнение по ним дает одинаковые результаты (это значит, что глубина наших значений в данном случае не влияет на результат).\n",
    "\n",
    "Resnik Similarity и Lin Similarity в третьем и шестом столбце дают нули. Непонятно, говорит ли это о полной несхожести значений или это специфика индекса/корпуса/данных.\n",
    "\n",
    "Если учитывать всё сразу, первые три индекса более или менее отражают интуитивное представление о близости слов."
   ]
  }
 ],
 "metadata": {
  "anaconda-cloud": {},
  "kernelspec": {
   "display_name": "Python [default]",
   "language": "python",
   "name": "python3"
  },
  "language_info": {
   "codemirror_mode": {
    "name": "ipython",
    "version": 3
   },
   "file_extension": ".py",
   "mimetype": "text/x-python",
   "name": "python",
   "nbconvert_exporter": "python",
   "pygments_lexer": "ipython3",
   "version": "3.5.2"
  }
 },
 "nbformat": 4,
 "nbformat_minor": 0
}
